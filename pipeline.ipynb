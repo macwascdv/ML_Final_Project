{
 "cells": [
  {
   "cell_type": "code",
   "execution_count": 7,
   "id": "0adde1b6",
   "metadata": {},
   "outputs": [],
   "source": [
    "import numpy as np\n",
    "from sklearn.metrics import f1_score, classification_report\n",
    "\n",
    "from sklearn.feature_selection import VarianceThreshold, RFECV\n",
    "from sklearn.decomposition import PCA, KernelPCA\n",
    "from sklearn.preprocessing import StandardScaler, Normalizer\n",
    "\n",
    "from sklearn.linear_model import LogisticRegression\n",
    "from sklearn.discriminant_analysis import LinearDiscriminantAnalysis, QuadraticDiscriminantAnalysis\n",
    "from sklearn.naive_bayes import GaussianNB, BernoulliNB\n",
    "from sklearn.tree import DecisionTreeClassifier\n",
    "from sklearn.svm import SVC, LinearSVC, NuSVC, OneClassSVM\n",
    "from sklearn.ensemble import RandomForestClassifier, IsolationForest, GradientBoostingClassifier\n",
    "\n",
    "from sklearn.experimental import enable_halving_search_cv\n",
    "from sklearn.model_selection import HalvingGridSearchCV\n",
    "\n",
    "from imblearn.over_sampling import RandomOverSampler, SMOTE, KMeansSMOTE, ADASYN, BorderlineSMOTE, \\\n",
    "                                    SMOTENC, SMOTEN, SVMSMOTE\n",
    "from imblearn.under_sampling import RandomUnderSampler, CondensedNearestNeighbour, TomekLinks, \\\n",
    "                                    EditedNearestNeighbours, NeighbourhoodCleaningRule, OneSidedSelection\n",
    "from imblearn.metrics import classification_report_imbalanced\n",
    "from imblearn.combine import SMOTEENN, SMOTETomek\n",
    "from imblearn.pipeline import Pipeline\n",
    "\n",
    "import xgboost as xgb\n",
    "\n"
   ]
  },
  {
   "cell_type": "code",
   "execution_count": 8,
   "id": "644e9ca1",
   "metadata": {},
   "outputs": [],
   "source": [
    "standardscaler= StandardScaler()\n",
    "normalizer=Normalizer()\n",
    "\n",
    "preprocessing_1 = [standardscaler, normalizer]"
   ]
  },
  {
   "cell_type": "code",
   "execution_count": 10,
   "id": "60393701",
   "metadata": {},
   "outputs": [],
   "source": [
    "oversamplings = [RandomOverSampler(), SMOTE(), KMeansSMOTE(), ADASYN(), BorderlineSMOTE(),\n",
    "                 SMOTENC(categorical_features=2), SMOTEN(), SVMSMOTE()]\n",
    "\n",
    "undersamplings = [RandomUnderSampler(), CondensedNearestNeighbour(), TomekLinks(),\n",
    "                  EditedNearestNeighbours(), NeighbourhoodCleaningRule(), OneSidedSelection()]\n",
    "\n",
    "combosampling = [SMOTEENN(), SMOTETomek()]"
   ]
  },
  {
   "cell_type": "code",
   "execution_count": 6,
   "id": "b60716d8",
   "metadata": {},
   "outputs": [],
   "source": [
    "rfecv = RFECV(estimator=LogisticRegression(class_weight=\"balanced\"), step=1, scoring=\"neg_mean_squared_error\")\n",
    "pca = PCA()\n",
    "kpca=KernelPCA()\n",
    "\n",
    "decompositions = [rfecv, pca, kpca]"
   ]
  },
  {
   "cell_type": "code",
   "execution_count": null,
   "id": "9787ede9",
   "metadata": {},
   "outputs": [],
   "source": [
    "models = [LogisticRegression(class_weight=\"balanced\"), LinearDiscriminantAnalysis ]"
   ]
  },
  {
   "cell_type": "code",
   "execution_count": null,
   "id": "c96c9ad5",
   "metadata": {},
   "outputs": [],
   "source": [
    "pipe = Pipeline(steps=[('pre1', StandardScaler()),('pre2': Normalizer()), ('classifier', SVC())])\n",
    "\n",
    "# Add a dict of classifier and classifier related parameters in this list\n",
    "params_grid = [{\n",
    "                'classifier':[SVC()],\n",
    "                'classifier__C': [1, 10, 100, 1000],\n",
    "                'classifier__gamma': [0.001, 0.0001],\n",
    "                },\n",
    "                {\n",
    "                'classifier': [DecisionTreeClassifier()],\n",
    "                'classifier__max_depth': [1,2,3,4,5],\n",
    "                'classifier__max_features': [None, \"auto\", \"sqrt\", \"log2\"],\n",
    "                },\n",
    "               # {'classifier':[Any_other_classifier_you_want],\n",
    "               #  'classifier__valid_param_of_your_classifier':[valid_values]\n",
    "\n",
    "              ]\n",
    "\n",
    "grid = GridSearchCV(pipe, params_grid)"
   ]
  }
 ],
 "metadata": {
  "kernelspec": {
   "display_name": "ml-mw-mm",
   "language": "python",
   "name": "ml-mw-mm"
  },
  "language_info": {
   "codemirror_mode": {
    "name": "ipython",
    "version": 3
   },
   "file_extension": ".py",
   "mimetype": "text/x-python",
   "name": "python",
   "nbconvert_exporter": "python",
   "pygments_lexer": "ipython3",
   "version": "3.8.2"
  }
 },
 "nbformat": 4,
 "nbformat_minor": 5
}
