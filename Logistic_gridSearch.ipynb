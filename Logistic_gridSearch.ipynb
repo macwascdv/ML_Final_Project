{
 "cells": [
  {
   "cell_type": "code",
   "execution_count": 8,
   "id": "985ffb35",
   "metadata": {},
   "outputs": [],
   "source": [
    "from models import scalers, decompositions, estimators, create_params_grid\n",
    "import numpy as np\n",
    "from sklearn.preprocessing import StandardScaler\n",
    "from sklearn.decomposition import PCA, KernelPCA\n",
    "from sklearn.tree import DecisionTreeClassifier\n",
    "from sklearn.model_selection import train_test_split\n",
    "from sklearn.svm import SVC\n",
    "from sklearn.linear_model import LogisticRegression\n",
    "from sklearn.metrics import classification_report\n",
    "from sklearn.model_selection import GridSearchCV\n",
    "from sklearn.ensemble import RandomForestClassifier\n",
    "from imblearn.metrics import classification_report_imbalanced\n",
    "from imblearn.pipeline import Pipeline\n",
    "import pandas as pd\n",
    "import neptune.new as neptune\n",
    "import os"
   ]
  },
  {
   "cell_type": "code",
   "execution_count": 2,
   "id": "80b9819d",
   "metadata": {},
   "outputs": [
    {
     "name": "stdout",
     "output_type": "stream",
     "text": [
      "https://app.neptune.ai/projektmlcdv/ml-project-MW-MM/e/MLPROJ-18\r\n"
     ]
    }
   ],
   "source": [
    "run = neptune.init(project='projektmlcdv/ml-project-MW-MM', api_token = 'eyJhcGlfYWRkcmVzcyI6Imh0dHBzOi8vYXBwLm5lcHR1bmUuYWkiLCJhcGlfdXJsIjoiaHR0cHM6Ly9hcHAubmVwdHVuZS5haSIsImFwaV9rZXkiOiIwYmI4NjVmYS0zM2JlLTRkZTQtOTI5YS0zNjY4NzhjNGQ4YjYifQ==')"
   ]
  },
  {
   "cell_type": "code",
   "execution_count": 3,
   "id": "0f16e967",
   "metadata": {},
   "outputs": [],
   "source": [
    "scalers = { key: scalers[key] for key in ['StandardScaler']}\n",
    "estimators = { key: estimators[key] for key in ['LogisticRegression']}#, 'DecisionTreeClassifier', 'SVC', 'RandomForestClassifier'] }\n",
    "decompositions ={ key: decompositions[key] for key in ['kpca']}\n",
    "params_grid = create_params_grid(scalers, decompositions, estimators)"
   ]
  },
  {
   "cell_type": "markdown",
   "id": "09f531b8",
   "metadata": {},
   "source": [
    "#### Creating Pipeline"
   ]
  },
  {
   "cell_type": "code",
   "execution_count": 4,
   "id": "936ef723",
   "metadata": {},
   "outputs": [],
   "source": [
    "pipe = Pipeline(steps=[('scaler', StandardScaler()),('decomposition',PCA()),('estimator', LogisticRegression())])"
   ]
  },
  {
   "cell_type": "markdown",
   "id": "dd0370d6",
   "metadata": {},
   "source": [
    "#### GridSearch"
   ]
  },
  {
   "cell_type": "code",
   "execution_count": 5,
   "id": "6278ae15",
   "metadata": {},
   "outputs": [],
   "source": [
    "grid = GridSearchCV(pipe, params_grid,verbose = 2, cv=3, n_jobs = -1, scoring = ['f1_weighted','recall_weighted','precision_weighted','roc_auc_ovo_weighted'],refit = False,)"
   ]
  },
  {
   "cell_type": "code",
   "execution_count": 6,
   "id": "3429f497",
   "metadata": {},
   "outputs": [],
   "source": [
    "encoder = lambda x:1 if x == -1 else 0\n",
    "decoder = lambda x:-1 if x == 1 else 1"
   ]
  },
  {
   "cell_type": "code",
   "execution_count": 9,
   "id": "8e6b149e",
   "metadata": {},
   "outputs": [],
   "source": [
    "X = pd.read_csv(os.path.join('data','train_data.csv'), header=None)\n",
    "y = pd.read_csv(os.path.join('data','train_labels.csv'), header=None, names=['y'])"
   ]
  },
  {
   "cell_type": "code",
   "execution_count": 10,
   "id": "bfa8100c",
   "metadata": {},
   "outputs": [],
   "source": [
    "y= y['y'].apply(encoder)"
   ]
  },
  {
   "cell_type": "code",
   "execution_count": 11,
   "id": "45d08c64",
   "metadata": {},
   "outputs": [],
   "source": [
    "X_train, X_test, y_train, y_test = train_test_split(X, y, stratify=y)"
   ]
  },
  {
   "cell_type": "code",
   "execution_count": 12,
   "id": "59aea768",
   "metadata": {
    "scrolled": true
   },
   "outputs": [
    {
     "name": "stdout",
     "output_type": "stream",
     "text": [
      "Fitting 3 folds for each of 4500 candidates, totalling 13500 fits\n"
     ]
    },
    {
     "name": "stderr",
     "output_type": "stream",
     "text": [
      "C:\\Users\\Marcin\\anaconda3\\envs\\ml-mw-mm\\lib\\site-packages\\sklearn\\model_selection\\_search.py:922: UserWarning: One or more of the test scores are non-finite: [       nan        nan 0.85131356 ...        nan        nan        nan]\n",
      "  warnings.warn(\n",
      "C:\\Users\\Marcin\\anaconda3\\envs\\ml-mw-mm\\lib\\site-packages\\sklearn\\model_selection\\_search.py:922: UserWarning: One or more of the test scores are non-finite: [       nan        nan 0.89722716 ...        nan        nan        nan]\n",
      "  warnings.warn(\n",
      "C:\\Users\\Marcin\\anaconda3\\envs\\ml-mw-mm\\lib\\site-packages\\sklearn\\model_selection\\_search.py:922: UserWarning: One or more of the test scores are non-finite: [       nan        nan 0.80987117 ...        nan        nan        nan]\n",
      "  warnings.warn(\n",
      "C:\\Users\\Marcin\\anaconda3\\envs\\ml-mw-mm\\lib\\site-packages\\sklearn\\model_selection\\_search.py:922: UserWarning: One or more of the test scores are non-finite: [       nan        nan 0.48811778 ...        nan        nan        nan]\n",
      "  warnings.warn(\n"
     ]
    }
   ],
   "source": [
    "best = grid.fit(X_train,y_train)"
   ]
  },
  {
   "cell_type": "code",
   "execution_count": 13,
   "id": "71d581e5",
   "metadata": {
    "pycharm": {
     "name": "#%%\n"
    }
   },
   "outputs": [
    {
     "ename": "NameError",
     "evalue": "name 'npt_utils' is not defined",
     "output_type": "error",
     "traceback": [
      "\u001B[1;31m---------------------------------------------------------------------------\u001B[0m",
      "\u001B[1;31mNameError\u001B[0m                                 Traceback (most recent call last)",
      "\u001B[1;32m<ipython-input-13-ef8282d1929b>\u001B[0m in \u001B[0;36m<module>\u001B[1;34m\u001B[0m\n\u001B[0;32m      1\u001B[0m \u001B[0mrun\u001B[0m\u001B[1;33m[\u001B[0m\u001B[1;34m\"cv_results\"\u001B[0m\u001B[1;33m]\u001B[0m\u001B[1;33m.\u001B[0m\u001B[0mupload\u001B[0m\u001B[1;33m(\u001B[0m\u001B[0mneptune\u001B[0m\u001B[1;33m.\u001B[0m\u001B[0mtypes\u001B[0m\u001B[1;33m.\u001B[0m\u001B[0mFile\u001B[0m\u001B[1;33m.\u001B[0m\u001B[0mas_html\u001B[0m\u001B[1;33m(\u001B[0m\u001B[0mpd\u001B[0m\u001B[1;33m.\u001B[0m\u001B[0mDataFrame\u001B[0m\u001B[1;33m.\u001B[0m\u001B[0mfrom_dict\u001B[0m\u001B[1;33m(\u001B[0m\u001B[0mbest\u001B[0m\u001B[1;33m.\u001B[0m\u001B[0mcv_results_\u001B[0m\u001B[1;33m)\u001B[0m\u001B[1;33m)\u001B[0m\u001B[1;33m)\u001B[0m\u001B[1;33m\u001B[0m\u001B[1;33m\u001B[0m\u001B[0m\n\u001B[1;32m----> 2\u001B[1;33m \u001B[0mrun\u001B[0m\u001B[1;33m[\u001B[0m\u001B[1;34m'all_params'\u001B[0m\u001B[1;33m]\u001B[0m \u001B[1;33m=\u001B[0m \u001B[0mnpt_utils\u001B[0m\u001B[1;33m.\u001B[0m\u001B[0mget_estimator_params\u001B[0m\u001B[1;33m(\u001B[0m\u001B[0mbest\u001B[0m\u001B[1;33m)\u001B[0m\u001B[1;33m\u001B[0m\u001B[1;33m\u001B[0m\u001B[0m\n\u001B[0m",
      "\u001B[1;31mNameError\u001B[0m: name 'npt_utils' is not defined"
     ]
    }
   ],
   "source": [
    "run[\"cv_results\"].upload(neptune.types.File.as_html(pd.DataFrame.from_dict(best.cv_results_)))\n",
    "run['all_params'] = npt_utils.get_estimator_params(best)"
   ]
  }
 ],
 "metadata": {
  "kernelspec": {
   "display_name": "ml-mw-mm",
   "language": "python",
   "name": "ml-mw-mm"
  },
  "language_info": {
   "codemirror_mode": {
    "name": "ipython",
    "version": 3
   },
   "file_extension": ".py",
   "mimetype": "text/x-python",
   "name": "python",
   "nbconvert_exporter": "python",
   "pygments_lexer": "ipython3",
   "version": "3.8.2"
  }
 },
 "nbformat": 4,
 "nbformat_minor": 5
}