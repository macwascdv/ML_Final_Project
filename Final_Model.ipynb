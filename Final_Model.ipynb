{
 "cells": [
  {
   "cell_type": "code",
   "execution_count": 36,
   "id": "70e3e94c",
   "metadata": {},
   "outputs": [],
   "source": [
    "import pandas as pd\n",
    "import numpy as np\n",
    "from sklearn.preprocessing import StandardScaler\n",
    "from sklearn.decomposition import KernelPCA\n",
    "from sklearn.model_selection import train_test_split\n",
    "from sklearn.linear_model import LogisticRegression\n",
    "from sklearn.metrics import confusion_matrix\n",
    "from imblearn.metrics import classification_report_imbalanced\n",
    "from imblearn.pipeline import Pipeline\n",
    "import pickle\n",
    "pd.set_option(\"display.max_columns\", 101)"
   ]
  },
  {
   "cell_type": "code",
   "execution_count": 8,
   "id": "ae23aba5",
   "metadata": {},
   "outputs": [],
   "source": [
    "df_final = pd.read_html('cv_results_final.html')"
   ]
  },
  {
   "cell_type": "code",
   "execution_count": 9,
   "id": "9b9bcd08",
   "metadata": {},
   "outputs": [
    {
     "data": {
      "text/plain": [
       "Index(['Unnamed: 0', 'mean_fit_time', 'std_fit_time', 'mean_score_time',\n",
       "       'std_score_time', 'param_decomposition',\n",
       "       'param_decomposition__n_components', 'param_decomposition__svd_solver',\n",
       "       'param_decomposition__whiten', 'param_estimator',\n",
       "       'param_estimator__class_weight', 'param_estimator__criterion',\n",
       "       'param_estimator__max_depth', 'param_estimator__splitter',\n",
       "       'param_scaler', 'param_decomposition__gamma',\n",
       "       'param_decomposition__kernel', 'param_estimator__C',\n",
       "       'param_estimator__penalty', 'param_estimator__solver',\n",
       "       'param_estimator__gamma', 'param_estimator__kernel', 'params',\n",
       "       'split0_test_score', 'split1_test_score', 'split2_test_score',\n",
       "       'split3_test_score', 'mean_test_score', 'std_test_score',\n",
       "       'rank_test_score'],\n",
       "      dtype='object')"
      ]
     },
     "execution_count": 9,
     "metadata": {},
     "output_type": "execute_result"
    }
   ],
   "source": [
    "df_final[0].columns"
   ]
  },
  {
   "cell_type": "code",
   "execution_count": 12,
   "id": "6973d806",
   "metadata": {},
   "outputs": [],
   "source": [
    "df_final[0].sort_values(by=[ 'mean_test_score'],inplace = True)"
   ]
  },
  {
   "cell_type": "code",
   "execution_count": 15,
   "id": "717b9b81",
   "metadata": {},
   "outputs": [],
   "source": [
    "df_final = df_final[0].tail(1)"
   ]
  },
  {
   "cell_type": "code",
   "execution_count": 16,
   "id": "5e22e30b",
   "metadata": {},
   "outputs": [
    {
     "data": {
      "text/plain": [
       "[\"{'decomposition': KernelPCA(gamma=0.03), 'decomposition__gamma': 0.03, 'decomposition__kernel': 'linear', 'estimator': LogisticRegression(class_weight='balanced', penalty='l1', solver='liblinear'), 'estimator__C': 1.0, 'estimator__class_weight': 'balanced', 'estimator__penalty': 'l1', 'estimator__solver': 'liblinear', 'scaler': StandardScaler()}\"]"
      ]
     },
     "execution_count": 16,
     "metadata": {},
     "output_type": "execute_result"
    }
   ],
   "source": [
    "list(df_final.params)"
   ]
  },
  {
   "cell_type": "code",
   "execution_count": 25,
   "id": "7fd7b6e8",
   "metadata": {},
   "outputs": [],
   "source": [
    "LR = LogisticRegression(C= 1.0, class_weight= 'balanced', penalty= 'l1', solver= 'liblinear')\n",
    "SC = StandardScaler()\n",
    "KPCA = KernelPCA(gamma= 0.03, kernel= 'linear')"
   ]
  },
  {
   "cell_type": "code",
   "execution_count": 26,
   "id": "2f30b8ec",
   "metadata": {},
   "outputs": [],
   "source": [
    "pipe = Pipeline(steps=[('scaler',SC),('decomposition',KPCA),('estimator',LR)])"
   ]
  },
  {
   "cell_type": "markdown",
   "id": "45944553",
   "metadata": {},
   "source": [
    "### Getting data"
   ]
  },
  {
   "cell_type": "code",
   "execution_count": 19,
   "id": "a4cf4e55",
   "metadata": {},
   "outputs": [],
   "source": [
    "encoder = lambda x:1 if x == -1 else 0\n",
    "decoder = lambda x:-1 if x == 1 else 1"
   ]
  },
  {
   "cell_type": "code",
   "execution_count": 20,
   "id": "cf5b5679",
   "metadata": {},
   "outputs": [],
   "source": [
    "y = pd.read_csv('train_labels.csv', header=None, names=['y'])\n",
    "X = pd.read_csv(\"train_data.csv\",header=None, low_memory = False)"
   ]
  },
  {
   "cell_type": "code",
   "execution_count": 21,
   "id": "c2004d13",
   "metadata": {},
   "outputs": [],
   "source": [
    "y= y['y'].apply(encoder)"
   ]
  },
  {
   "cell_type": "code",
   "execution_count": 22,
   "id": "b9cb2bf6",
   "metadata": {},
   "outputs": [],
   "source": [
    "X_train, X_test, y_train, y_test = train_test_split(X, y, stratify=y, random_state=42)"
   ]
  },
  {
   "cell_type": "code",
   "execution_count": 27,
   "id": "a3179374",
   "metadata": {},
   "outputs": [
    {
     "data": {
      "text/plain": [
       "Pipeline(steps=[('scaler', StandardScaler()),\n",
       "                ('decomposition', KernelPCA(gamma=0.03)),\n",
       "                ('estimator',\n",
       "                 LogisticRegression(class_weight='balanced', penalty='l1',\n",
       "                                    solver='liblinear'))])"
      ]
     },
     "execution_count": 27,
     "metadata": {},
     "output_type": "execute_result"
    }
   ],
   "source": [
    "pipe.fit(X_train,y_train)"
   ]
  },
  {
   "cell_type": "code",
   "execution_count": 28,
   "id": "62b35bc5",
   "metadata": {},
   "outputs": [],
   "source": [
    "y_pred = pipe.predict(X_test)"
   ]
  },
  {
   "cell_type": "code",
   "execution_count": 30,
   "id": "2ada02ab",
   "metadata": {},
   "outputs": [
    {
     "data": {
      "text/plain": [
       "array([[836,  92],\n",
       "       [  8,   2]], dtype=int64)"
      ]
     },
     "execution_count": 30,
     "metadata": {},
     "output_type": "execute_result"
    }
   ],
   "source": [
    "confusion_matrix(y_pred,y_test)"
   ]
  },
  {
   "cell_type": "code",
   "execution_count": 32,
   "id": "0aa676a1",
   "metadata": {},
   "outputs": [
    {
     "name": "stdout",
     "output_type": "stream",
     "text": [
      "                   pre       rec       spe        f1       geo       iba       sup\n",
      "\n",
      "          0       0.99      0.90      0.20      0.94      0.42      0.19       928\n",
      "          1       0.02      0.20      0.90      0.04      0.42      0.17        10\n",
      "\n",
      "avg / total       0.98      0.89      0.21      0.93      0.42      0.19       938\n",
      "\n"
     ]
    }
   ],
   "source": [
    "print(classification_report_imbalanced(y_pred,y_test))"
   ]
  },
  {
   "cell_type": "code",
   "execution_count": 34,
   "id": "52523c0f",
   "metadata": {},
   "outputs": [],
   "source": [
    "tn, fp, fn, tp = confusion_matrix(y_pred, y_test).ravel()"
   ]
  },
  {
   "cell_type": "code",
   "execution_count": 35,
   "id": "7598e2fa",
   "metadata": {},
   "outputs": [
    {
     "data": {
      "text/plain": [
       "(836, 92, 8, 2)"
      ]
     },
     "execution_count": 35,
     "metadata": {},
     "output_type": "execute_result"
    }
   ],
   "source": [
    "(tn, fp, fn, tp)"
   ]
  },
  {
   "cell_type": "code",
   "execution_count": 38,
   "id": "5f3a8cc1",
   "metadata": {},
   "outputs": [
    {
     "data": {
      "text/plain": [
       "numpy.ndarray"
      ]
     },
     "execution_count": 38,
     "metadata": {},
     "output_type": "execute_result"
    }
   ],
   "source": [
    "type(y_pred)"
   ]
  },
  {
   "cell_type": "code",
   "execution_count": 46,
   "id": "de61949d",
   "metadata": {},
   "outputs": [],
   "source": [
    "df = pd.DataFrame([y_pred]).T"
   ]
  },
  {
   "cell_type": "code",
   "execution_count": 51,
   "id": "9abfe96e",
   "metadata": {},
   "outputs": [],
   "source": [
    "df[0].to_csv('lol2.csv',index=False)"
   ]
  },
  {
   "cell_type": "code",
   "execution_count": 52,
   "id": "98988b26",
   "metadata": {},
   "outputs": [],
   "source": [
    "filename = 'finalized_model.sav'\n",
    "pickle.dump(pipe, open(filename, 'wb'))"
   ]
  },
  {
   "cell_type": "code",
   "execution_count": null,
   "id": "7da4a843",
   "metadata": {},
   "outputs": [],
   "source": []
  }
 ],
 "metadata": {
  "kernelspec": {
   "display_name": "ml-mw-mm",
   "language": "python",
   "name": "ml-mw-mm"
  },
  "language_info": {
   "codemirror_mode": {
    "name": "ipython",
    "version": 3
   },
   "file_extension": ".py",
   "mimetype": "text/x-python",
   "name": "python",
   "nbconvert_exporter": "python",
   "pygments_lexer": "ipython3",
   "version": "3.8.8"
  }
 },
 "nbformat": 4,
 "nbformat_minor": 5
}
