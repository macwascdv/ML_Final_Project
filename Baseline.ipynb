{
 "cells": [
  {
   "cell_type": "code",
   "execution_count": 1,
   "id": "20f2aab6",
   "metadata": {},
   "outputs": [],
   "source": [
    "import numpy as np\n",
    "from sklearn.metrics import f1_score\n",
    "from sklearn.dummy import DummyClassifier\n",
    "from sklearn.tree import DecisionTreeClassifier\n",
    "from imblearn.metrics import classification_report_imbalanced\n",
    "import pandas as pd\n",
    "import neptune.new as neptune\n",
    "from sklearn.model_selection import train_test_split"
   ]
  },
  {
   "cell_type": "code",
   "execution_count": 10,
   "id": "faf99927",
   "metadata": {},
   "outputs": [
    {
     "name": "stdout",
     "output_type": "stream",
     "text": [
      "https://app.neptune.ai/projektmlcdv/ml-project-MW-MM/e/MLPROJ-14\n",
      "Remember to stop your run once you’ve finished logging your metadata (https://docs.neptune.ai/api-reference/run#stop). It will be stopped automatically only when the notebook kernel/interactive console is terminated.\n"
     ]
    }
   ],
   "source": [
    "run = neptune.init(project='projektmlcdv/ml-project-MW-MM')"
   ]
  },
  {
   "cell_type": "markdown",
   "id": "06addd81",
   "metadata": {},
   "source": [
    "##### Loading data"
   ]
  },
  {
   "cell_type": "code",
   "execution_count": 3,
   "id": "da23c4e1",
   "metadata": {},
   "outputs": [],
   "source": [
    "encoder = lambda x:1 if x == -1 else 0\n",
    "decoder = lambda x:-1 if x == 1 else 1"
   ]
  },
  {
   "cell_type": "code",
   "execution_count": 4,
   "id": "d0a1b432",
   "metadata": {},
   "outputs": [],
   "source": [
    "y = pd.read_csv('train_labels.csv', header=None, names=['y'])\n",
    "X = pd.read_csv(\"train_data.csv\",header=None, low_memory = False) "
   ]
  },
  {
   "cell_type": "code",
   "execution_count": 5,
   "id": "144b0823",
   "metadata": {},
   "outputs": [],
   "source": [
    "y= y['y'].apply(encoder)"
   ]
  },
  {
   "cell_type": "markdown",
   "id": "fee0994c",
   "metadata": {},
   "source": [
    "##### Splitting data to train and test sets"
   ]
  },
  {
   "cell_type": "code",
   "execution_count": 6,
   "id": "bb482b58",
   "metadata": {},
   "outputs": [],
   "source": [
    "X_train, X_test, y_train, y_test = train_test_split(X, y, test_size=0.3)"
   ]
  },
  {
   "cell_type": "markdown",
   "id": "00a92969",
   "metadata": {},
   "source": [
    "##### Dummy classifier"
   ]
  },
  {
   "cell_type": "code",
   "execution_count": 11,
   "id": "1b296004",
   "metadata": {},
   "outputs": [
    {
     "name": "stdout",
     "output_type": "stream",
     "text": [
      "                   pre       rec       spe        f1       geo       iba       sup\n",
      "\n",
      "          0       0.89      0.92      0.06      0.90      0.23      0.06      1004\n",
      "          1       0.08      0.06      0.92      0.07      0.23      0.05       121\n",
      "\n",
      "avg / total       0.80      0.83      0.15      0.81      0.23      0.06      1125\n",
      "\n"
     ]
    }
   ],
   "source": [
    "model = DummyClassifier(strategy = 'stratified')\n",
    "base_dummy = model.fit(X_train,y_train)\n",
    "y_pred = model.predict(X_test)\n",
    "print(classification_report_imbalanced(y_test, y_pred))"
   ]
  },
  {
   "cell_type": "markdown",
   "id": "c40952ca",
   "metadata": {},
   "source": [
    "##### Decision Tree Classifier"
   ]
  },
  {
   "cell_type": "code",
   "execution_count": 12,
   "id": "6dad19ad",
   "metadata": {},
   "outputs": [
    {
     "name": "stdout",
     "output_type": "stream",
     "text": [
      "                   pre       rec       spe        f1       geo       iba       sup\n",
      "\n",
      "          0       0.97      0.97      0.75      0.97      0.86      0.75      1004\n",
      "          1       0.77      0.75      0.97      0.76      0.86      0.72       121\n",
      "\n",
      "avg / total       0.95      0.95      0.78      0.95      0.86      0.74      1125\n",
      "\n"
     ]
    }
   ],
   "source": [
    "model = DecisionTreeClassifier()\n",
    "base_dummy = model.fit(X_train,y_train)\n",
    "y_pred = model.predict(X_test)\n",
    "print(classification_report_imbalanced(y_test, y_pred))"
   ]
  }
 ],
 "metadata": {
  "kernelspec": {
   "display_name": "Python 3",
   "language": "python",
   "name": "python3"
  },
  "language_info": {
   "codemirror_mode": {
    "name": "ipython",
    "version": 3
   },
   "file_extension": ".py",
   "mimetype": "text/x-python",
   "name": "python",
   "nbconvert_exporter": "python",
   "pygments_lexer": "ipython3",
   "version": "3.8.8"
  }
 },
 "nbformat": 4,
 "nbformat_minor": 5
}
