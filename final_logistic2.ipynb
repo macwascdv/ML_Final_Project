{
 "cells": [
  {
   "cell_type": "code",
   "execution_count": 1,
   "id": "d6172d51",
   "metadata": {},
   "outputs": [],
   "source": [
    "from models import scalers, decompositions, estimators, create_params_grid\n",
    "import numpy as np\n",
    "from sklearn.preprocessing import StandardScaler\n",
    "from sklearn.decomposition import PCA, KernelPCA\n",
    "from sklearn.tree import DecisionTreeClassifier\n",
    "from sklearn.model_selection import train_test_split\n",
    "from sklearn.svm import SVC\n",
    "from sklearn.linear_model import LogisticRegression\n",
    "from sklearn.metrics import classification_report\n",
    "from sklearn.model_selection import GridSearchCV\n",
    "from sklearn.ensemble import RandomForestClassifier\n",
    "from imblearn.metrics import classification_report_imbalanced\n",
    "from imblearn.pipeline import Pipeline\n",
    "import pandas as pd\n",
    "import neptune.new as neptune\n",
    "import os"
   ]
  },
  {
   "cell_type": "code",
   "execution_count": 2,
   "id": "5062ddc4",
   "metadata": {},
   "outputs": [
    {
     "name": "stdout",
     "output_type": "stream",
     "text": [
      "https://app.neptune.ai/projektmlcdv/ml-project-MW-MM/e/MLPROJ-29\r\n"
     ]
    }
   ],
   "source": [
    "run = neptune.init(project='projektmlcdv/ml-project-MW-MM', api_token = 'eyJhcGlfYWRkcmVzcyI6Imh0dHBzOi8vYXBwLm5lcHR1bmUuYWkiLCJhcGlfdXJsIjoiaHR0cHM6Ly9hcHAubmVwdHVuZS5haSIsImFwaV9rZXkiOiIwYmI4NjVmYS0zM2JlLTRkZTQtOTI5YS0zNjY4NzhjNGQ4YjYifQ==')"
   ]
  },
  {
   "cell_type": "code",
   "execution_count": 3,
   "id": "1354a031",
   "metadata": {},
   "outputs": [],
   "source": [
    "scalers = { key: scalers[key] for key in ['StandardScaler']}\n",
    "estimators = { key: estimators[key] for key in ['LogisticRegression', 'LogisticRegression2', 'LogisticRegression3']}#, 'DecisionTreeClassifier', 'SVC', 'RandomForestClassifier'] }\n",
    "decompositions ={ key: decompositions[key] for key in ['pca', 'kpca']}\n",
    "params_grid = create_params_grid(scalers, decompositions, estimators)"
   ]
  },
  {
   "cell_type": "code",
   "execution_count": 4,
   "id": "7073c370",
   "metadata": {},
   "outputs": [],
   "source": [
    "pipe = Pipeline(steps=[('scaler', StandardScaler()),('decomposition',PCA()),('estimator', LogisticRegression())])\n",
    "grid = GridSearchCV(pipe, params_grid,verbose = 2, cv=3, n_jobs = -1, scoring = ['f1_weighted','recall_weighted','precision_weighted','roc_auc_ovo_weighted'],refit = False,)"
   ]
  },
  {
   "cell_type": "code",
   "execution_count": 5,
   "id": "cf37b221",
   "metadata": {},
   "outputs": [],
   "source": [
    "encoder = lambda x:1 if x == -1 else 0\n",
    "decoder = lambda x:-1 if x == 1 else 1"
   ]
  },
  {
   "cell_type": "code",
   "execution_count": 6,
   "id": "47aa539a",
   "metadata": {},
   "outputs": [],
   "source": [
    "X = pd.read_csv(os.path.join('data','train_data.csv'), header=None)\n",
    "y = pd.read_csv(os.path.join('data','train_labels.csv'), header=None, names=['y'])"
   ]
  },
  {
   "cell_type": "code",
   "execution_count": 7,
   "id": "9dec559d",
   "metadata": {},
   "outputs": [],
   "source": [
    "y= y['y'].apply(encoder)"
   ]
  },
  {
   "cell_type": "code",
   "execution_count": 8,
   "id": "2c3446e6",
   "metadata": {},
   "outputs": [],
   "source": [
    "X_train, X_test, y_train, y_test = train_test_split(X, y, stratify=y, random_state=42)"
   ]
  },
  {
   "cell_type": "code",
   "execution_count": 9,
   "id": "863a75f8",
   "metadata": {},
   "outputs": [
    {
     "name": "stdout",
     "output_type": "stream",
     "text": [
      "Fitting 3 folds for each of 2520 candidates, totalling 7560 fits\n"
     ]
    },
    {
     "name": "stderr",
     "output_type": "stream",
     "text": [
      "C:\\Users\\Marcin\\anaconda3\\envs\\ml-mw-mm\\lib\\site-packages\\sklearn\\model_selection\\_search.py:922: UserWarning: One or more of the test scores are non-finite: [0.61798625 0.62104602 0.6379271  ...        nan        nan        nan]\n",
      "  warnings.warn(\n",
      "C:\\Users\\Marcin\\anaconda3\\envs\\ml-mw-mm\\lib\\site-packages\\sklearn\\model_selection\\_search.py:922: UserWarning: One or more of the test scores are non-finite: [0.52632667 0.52844673 0.5483605  ...        nan        nan        nan]\n",
      "  warnings.warn(\n",
      "C:\\Users\\Marcin\\anaconda3\\envs\\ml-mw-mm\\lib\\site-packages\\sklearn\\model_selection\\_search.py:922: UserWarning: One or more of the test scores are non-finite: [0.82508231 0.81674746 0.81738023 ...        nan        nan        nan]\n",
      "  warnings.warn(\n",
      "C:\\Users\\Marcin\\anaconda3\\envs\\ml-mw-mm\\lib\\site-packages\\sklearn\\model_selection\\_search.py:922: UserWarning: One or more of the test scores are non-finite: [0.52884763 0.49978566 0.49936274 ...        nan        nan        nan]\n",
      "  warnings.warn(\n"
     ]
    }
   ],
   "source": [
    "best = grid.fit(X_train,y_train)"
   ]
  },
  {
   "cell_type": "code",
   "execution_count": 10,
   "id": "feb368fb",
   "metadata": {},
   "outputs": [
    {
     "name": "stderr",
     "output_type": "stream",
     "text": [
      "Experiencing connection interruptions. Will try to reestablish communication with Neptune.\n",
      "Experiencing connection interruptions. Will try to reestablish communication with Neptune.\n",
      "Communication with Neptune restored!\n",
      "Communication with Neptune restored!\n",
      "Run MLPROJ-29 received stop signal. Exiting\n"
     ]
    },
    {
     "name": "stdout",
     "output_type": "stream",
     "text": [
      "Shutting down background jobs, please wait a moment...\n",
      "Done!\n"
     ]
    },
    {
     "name": "stderr",
     "output_type": "stream",
     "text": [
      "Waiting for the remaining 3 operations to synchronize with Neptune. Do not kill this process.\n"
     ]
    },
    {
     "name": "stdout",
     "output_type": "stream",
     "text": [
      "All 3 operations synced, thanks for waiting!\r\n"
     ]
    }
   ],
   "source": [
    "run[\"cv_results\"].upload(neptune.types.File.as_html(pd.DataFrame.from_dict(best.cv_results_)))"
   ]
  },
  {
   "cell_type": "code",
   "execution_count": null,
   "id": "c9b38b68",
   "metadata": {},
   "outputs": [],
   "source": []
  }
 ],
 "metadata": {
  "kernelspec": {
   "display_name": "ml-mw-mm",
   "language": "python",
   "name": "ml-mw-mm"
  },
  "language_info": {
   "codemirror_mode": {
    "name": "ipython",
    "version": 3
   },
   "file_extension": ".py",
   "mimetype": "text/x-python",
   "name": "python",
   "nbconvert_exporter": "python",
   "pygments_lexer": "ipython3",
   "version": "3.8.2"
  }
 },
 "nbformat": 4,
 "nbformat_minor": 5
}
