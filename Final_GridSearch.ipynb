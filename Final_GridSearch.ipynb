{
 "cells": [
  {
   "cell_type": "code",
   "execution_count": 1,
   "id": "bb320582",
   "metadata": {},
   "outputs": [],
   "source": [
    "import pandas as pd\n",
    "from models import scalers, decompositions, estimators, create_params_grid\n",
    "import numpy as np\n",
    "from sklearn.preprocessing import StandardScaler\n",
    "from sklearn.decomposition import PCA, KernelPCA\n",
    "from sklearn.tree import DecisionTreeClassifier\n",
    "from sklearn.model_selection import train_test_split\n",
    "from sklearn.svm import SVC\n",
    "from sklearn.linear_model import LogisticRegression\n",
    "from sklearn.metrics import classification_report\n",
    "from sklearn.model_selection import GridSearchCV\n",
    "from sklearn.ensemble import RandomForestClassifier\n",
    "from imblearn.metrics import classification_report_imbalanced\n",
    "from imblearn.pipeline import Pipeline\n",
    "import pandas as pd\n",
    "import neptune.new as neptune"
   ]
  },
  {
   "cell_type": "code",
   "execution_count": 39,
   "id": "c4b3a532",
   "metadata": {},
   "outputs": [
    {
     "name": "stdout",
     "output_type": "stream",
     "text": [
      "https://app.neptune.ai/projektmlcdv/ml-project-MW-MM/e/MLPROJ-36\n",
      "Remember to stop your run once you’ve finished logging your metadata (https://docs.neptune.ai/api-reference/run#stop). It will be stopped automatically only when the notebook kernel/interactive console is terminated.\n"
     ]
    }
   ],
   "source": [
    "run = neptune.init(project='projektmlcdv/ml-project-MW-MM', api_token = 'eyJhcGlfYWRkcmVzcyI6Imh0dHBzOi8vYXBwLm5lcHR1bmUuYWkiLCJhcGlfdXJsIjoiaHR0cHM6Ly9hcHAubmVwdHVuZS5haSIsImFwaV9rZXkiOiIwYmI4NjVmYS0zM2JlLTRkZTQtOTI5YS0zNjY4NzhjNGQ4YjYifQ==')"
   ]
  },
  {
   "cell_type": "code",
   "execution_count": 3,
   "id": "e8ab1d34",
   "metadata": {},
   "outputs": [],
   "source": [
    "df_reg = pd.read_html('cv_results_reg.html')"
   ]
  },
  {
   "cell_type": "code",
   "execution_count": 4,
   "id": "a2f6e6fc",
   "metadata": {},
   "outputs": [],
   "source": [
    "df_svc = pd.read_html('cv_results_svc.html')"
   ]
  },
  {
   "cell_type": "code",
   "execution_count": 5,
   "id": "f3226a03",
   "metadata": {},
   "outputs": [],
   "source": [
    "df_tree = pd.read_html('cv_results_tree.html')"
   ]
  },
  {
   "cell_type": "code",
   "execution_count": 6,
   "id": "4149b38c",
   "metadata": {},
   "outputs": [],
   "source": [
    "pd.set_option(\"display.max_columns\", 101)"
   ]
  },
  {
   "cell_type": "code",
   "execution_count": 7,
   "id": "2a1a8293",
   "metadata": {},
   "outputs": [],
   "source": [
    "df_tree[0].sort_values(by=['rank_test_f1_weighted', 'rank_test_recall_weighted'],inplace = True)"
   ]
  },
  {
   "cell_type": "code",
   "execution_count": 8,
   "id": "e2bcf5f5",
   "metadata": {},
   "outputs": [],
   "source": [
    "df_reg[0].sort_values(by=['rank_test_f1_weighted', 'rank_test_recall_weighted'], inplace = True)"
   ]
  },
  {
   "cell_type": "code",
   "execution_count": 9,
   "id": "6deaf603",
   "metadata": {},
   "outputs": [],
   "source": [
    "df_svc[0].sort_values(by=['rank_test_f1_weighted', 'rank_test_recall_weighted'],inplace = True)"
   ]
  },
  {
   "cell_type": "code",
   "execution_count": 10,
   "id": "a608bdec",
   "metadata": {},
   "outputs": [
    {
     "data": {
      "text/plain": [
       "array(['liblinear', 'sag', 'newton-cg', 'lbfgs', 'saga'], dtype=object)"
      ]
     },
     "execution_count": 10,
     "metadata": {},
     "output_type": "execute_result"
    }
   ],
   "source": [
    "df_reg[0]['param_estimator__solver'].unique()"
   ]
  },
  {
   "cell_type": "markdown",
   "id": "9d112b9f",
   "metadata": {},
   "source": [
    "#### Params"
   ]
  },
  {
   "cell_type": "markdown",
   "id": "d6b4d356",
   "metadata": {},
   "source": [
    "Tree"
   ]
  },
  {
   "cell_type": "code",
   "execution_count": 12,
   "id": "985e30a3",
   "metadata": {},
   "outputs": [
    {
     "data": {
      "text/plain": [
       "[\"{'decomposition': PCA(), 'decomposition__n_components': 2, 'decomposition__svd_solver': 'full', 'decomposition__whiten': False, 'estimator': DecisionTreeClassifier(), 'estimator__class_weight': 'balanced', 'estimator__criterion': 'entropy', 'estimator__max_depth': 2, 'estimator__splitter': 'random', 'scaler': StandardScaler()}\"]"
      ]
     },
     "execution_count": 12,
     "metadata": {},
     "output_type": "execute_result"
    }
   ],
   "source": [
    "list(df_tree[0].head(1).params)"
   ]
  },
  {
   "cell_type": "markdown",
   "id": "9b983cc8",
   "metadata": {},
   "source": [
    "Reg"
   ]
  },
  {
   "cell_type": "code",
   "execution_count": 13,
   "id": "091ff29e",
   "metadata": {},
   "outputs": [
    {
     "data": {
      "text/plain": [
       "[\"{'decomposition': KernelPCA(), 'decomposition__gamma': 0.03, 'decomposition__kernel': 'linear', 'estimator': LogisticRegression(), 'estimator__C': 1.0, 'estimator__class_weight': 'balanced', 'estimator__penalty': 'l1', 'estimator__solver': 'liblinear', 'scaler': StandardScaler()}\"]"
      ]
     },
     "execution_count": 13,
     "metadata": {},
     "output_type": "execute_result"
    }
   ],
   "source": [
    "list(df_reg[0].head(1).params)"
   ]
  },
  {
   "cell_type": "markdown",
   "id": "3900e327",
   "metadata": {},
   "source": [
    "SVC"
   ]
  },
  {
   "cell_type": "code",
   "execution_count": 14,
   "id": "c6b52d63",
   "metadata": {},
   "outputs": [
    {
     "data": {
      "text/plain": [
       "[\"{'decomposition': PCA(), 'decomposition__n_components': 10, 'decomposition__svd_solver': 'auto', 'decomposition__whiten': False, 'estimator': SVC(), 'estimator__C': 35.938136638046274, 'estimator__class_weight': 'balanced', 'estimator__gamma': 'auto', 'estimator__kernel': 'rbf', 'scaler': StandardScaler()}\"]"
      ]
     },
     "execution_count": 14,
     "metadata": {},
     "output_type": "execute_result"
    }
   ],
   "source": [
    "list(df_svc[0].head(1).params)"
   ]
  },
  {
   "cell_type": "markdown",
   "id": "d318ad54",
   "metadata": {},
   "source": [
    "Params grid"
   ]
  },
  {
   "cell_type": "code",
   "execution_count": 15,
   "id": "b2441a8c",
   "metadata": {},
   "outputs": [],
   "source": [
    "params_grid = [{'scaler': [StandardScaler()],\n",
    " 'decomposition': [PCA()],\n",
    " 'decomposition__n_components': [2],\n",
    " 'decomposition__whiten': [False],\n",
    " 'decomposition__svd_solver': ['full'],\n",
    " 'estimator': [DecisionTreeClassifier()],\n",
    " 'estimator__class_weight': ['balanced'],\n",
    " 'estimator__criterion': ['entropy'],\n",
    " 'estimator__max_depth': [2],\n",
    " 'estimator__splitter': ['random']},\n",
    "               \n",
    "               \n",
    "\n",
    "              {'scaler': [StandardScaler()],\n",
    " 'decomposition': [KernelPCA()],\n",
    " 'decomposition__gamma': [0.03],\n",
    " 'decomposition__kernel': ['linear'], \n",
    " 'estimator': [LogisticRegression()], \n",
    " 'estimator__C': [1.0], \n",
    " 'estimator__class_weight': ['balanced'], \n",
    " 'estimator__penalty': ['l1'], \n",
    " 'estimator__solver': ['liblinear']},\n",
    "               \n",
    "        \n",
    "               \n",
    "    {'scaler': [StandardScaler()],\n",
    "    'decomposition': [PCA()],\n",
    "    'decomposition__n_components': [10], \n",
    "    'decomposition__svd_solver': ['auto'], \n",
    "    'decomposition__whiten': [False], \n",
    "    'estimator': [SVC()], \n",
    "    'estimator__C': [35.938136638046274], \n",
    "    'estimator__class_weight': ['balanced'], \n",
    "    'estimator__gamma':[ 'auto'],\n",
    "    'estimator__kernel': ['rbf']}]"
   ]
  },
  {
   "cell_type": "code",
   "execution_count": 30,
   "id": "f49653e7",
   "metadata": {},
   "outputs": [],
   "source": [
    "pipe = Pipeline(steps=[('scaler', StandardScaler()),('decomposition',PCA()),('estimator', SVC())])"
   ]
  },
  {
   "cell_type": "code",
   "execution_count": 31,
   "id": "188600c0",
   "metadata": {},
   "outputs": [],
   "source": [
    "encoder = lambda x:1 if x == -1 else 0\n",
    "decoder = lambda x:-1 if x == 1 else 1"
   ]
  },
  {
   "cell_type": "code",
   "execution_count": 32,
   "id": "7bf6bc8c",
   "metadata": {},
   "outputs": [],
   "source": [
    "y = pd.read_csv('train_labels.csv', header=None, names=['y'])\n",
    "X = pd.read_csv(\"train_data.csv\",header=None, low_memory = False)"
   ]
  },
  {
   "cell_type": "code",
   "execution_count": 33,
   "id": "aa11433d",
   "metadata": {},
   "outputs": [],
   "source": [
    "y= y['y'].apply(encoder)"
   ]
  },
  {
   "cell_type": "code",
   "execution_count": 34,
   "id": "270516b9",
   "metadata": {},
   "outputs": [],
   "source": [
    "X_train, X_test, y_train, y_test = train_test_split(X, y, stratify=y,random_state =40)"
   ]
  },
  {
   "cell_type": "code",
   "execution_count": 38,
   "id": "d87ea318",
   "metadata": {},
   "outputs": [],
   "source": [
    "grid = GridSearchCV(pipe, params_grid,verbose = 2, cv=4, n_jobs = -1, scoring = 'f1_weighted',refit = True,)"
   ]
  },
  {
   "cell_type": "code",
   "execution_count": 40,
   "id": "75353e1c",
   "metadata": {},
   "outputs": [
    {
     "name": "stdout",
     "output_type": "stream",
     "text": [
      "Fitting 4 folds for each of 3 candidates, totalling 12 fits\n"
     ]
    }
   ],
   "source": [
    "best = grid.fit(X_train,y_train)\n",
    "run[\"cv_results\"].upload(neptune.types.File.as_html(pd.DataFrame.from_dict(best.cv_results_)))"
   ]
  },
  {
   "cell_type": "code",
   "execution_count": null,
   "id": "05276b04",
   "metadata": {},
   "outputs": [],
   "source": [
    "best."
   ]
  }
 ],
 "metadata": {
  "kernelspec": {
   "display_name": "ml-mw-mm",
   "language": "python",
   "name": "ml-mw-mm"
  },
  "language_info": {
   "codemirror_mode": {
    "name": "ipython",
    "version": 3
   },
   "file_extension": ".py",
   "mimetype": "text/x-python",
   "name": "python",
   "nbconvert_exporter": "python",
   "pygments_lexer": "ipython3",
   "version": "3.8.8"
  }
 },
 "nbformat": 4,
 "nbformat_minor": 5
}
